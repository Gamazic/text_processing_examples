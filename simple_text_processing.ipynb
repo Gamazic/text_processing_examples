{
  "nbformat": 4,
  "nbformat_minor": 0,
  "metadata": {
    "colab": {
      "name": "text_processing_example.ipynb",
      "provenance": []
    },
    "kernelspec": {
      "name": "python3",
      "display_name": "Python 3"
    }
  },
  "cells": [
    {
      "cell_type": "markdown",
      "metadata": {
        "id": "nB5EcAxrkZqA",
        "colab_type": "text"
      },
      "source": [
        "# requirements"
      ]
    },
    {
      "cell_type": "code",
      "metadata": {
        "id": "C2k8Uyt3Zfgj",
        "colab_type": "code",
        "colab": {
          "base_uri": "https://localhost:8080/",
          "height": 1000
        },
        "outputId": "03411d52-2c18-44f5-e017-6dd8c18ee2ea"
      },
      "source": [
        "!pip install deeppavlov fasttext pymorphy2"
      ],
      "execution_count": 1,
      "outputs": [
        {
          "output_type": "stream",
          "text": [
            "Collecting deeppavlov\n",
            "\u001b[?25l  Downloading https://files.pythonhosted.org/packages/63/25/7c97c184d13c579ddc4550f58c0c4fc480a6122393008c21c4e4fad6d64d/deeppavlov-0.11.0-py3-none-any.whl (847kB)\n",
            "\u001b[K     |████████████████████████████████| 849kB 5.4MB/s \n",
            "\u001b[?25hCollecting fasttext\n",
            "\u001b[?25l  Downloading https://files.pythonhosted.org/packages/f8/85/e2b368ab6d3528827b147fdb814f8189acc981a4bc2f99ab894650e05c40/fasttext-0.9.2.tar.gz (68kB)\n",
            "\u001b[K     |████████████████████████████████| 71kB 8.1MB/s \n",
            "\u001b[?25hCollecting pymorphy2\n",
            "\u001b[?25l  Downloading https://files.pythonhosted.org/packages/a3/33/fff9675c68b5f6c63ec8c6e6ff57827dda28a1fa5b2c2d727dffff92dd47/pymorphy2-0.8-py2.py3-none-any.whl (46kB)\n",
            "\u001b[K     |████████████████████████████████| 51kB 5.7MB/s \n",
            "\u001b[?25hCollecting uvicorn==0.11.1\n",
            "\u001b[?25l  Downloading https://files.pythonhosted.org/packages/8e/24/11f4b4bf3963ead6de570feeae49eeced02f6768cf1f68e16f4b16d3b0aa/uvicorn-0.11.1-py3-none-any.whl (42kB)\n",
            "\u001b[K     |████████████████████████████████| 51kB 5.9MB/s \n",
            "\u001b[?25hCollecting scikit-learn==0.21.2\n",
            "\u001b[?25l  Downloading https://files.pythonhosted.org/packages/85/04/49633f490f726da6e454fddc8e938bbb5bfed2001681118d3814c219b723/scikit_learn-0.21.2-cp36-cp36m-manylinux1_x86_64.whl (6.7MB)\n",
            "\u001b[K     |████████████████████████████████| 6.7MB 16.5MB/s \n",
            "\u001b[?25hCollecting overrides==2.7.0\n",
            "  Downloading https://files.pythonhosted.org/packages/ac/98/2430afd204c48ac0a529d439d7e22df8fa603c668d03456b5947cb59ec36/overrides-2.7.0.tar.gz\n",
            "Requirement already satisfied: h5py==2.10.0 in /usr/local/lib/python3.6/dist-packages (from deeppavlov) (2.10.0)\n",
            "Collecting Cython==0.29.14\n",
            "\u001b[?25l  Downloading https://files.pythonhosted.org/packages/df/d1/4d3f8a7a920e805488a966cc6ab55c978a712240f584445d703c08b9f405/Cython-0.29.14-cp36-cp36m-manylinux1_x86_64.whl (2.1MB)\n",
            "\u001b[K     |████████████████████████████████| 2.1MB 46.9MB/s \n",
            "\u001b[?25hCollecting fastapi==0.47.1\n",
            "\u001b[?25l  Downloading https://files.pythonhosted.org/packages/a3/a7/4804d7abf8a1544d079d50650af872387154ebdac5bd07d54b2e60e2b334/fastapi-0.47.1-py3-none-any.whl (43kB)\n",
            "\u001b[K     |████████████████████████████████| 51kB 6.6MB/s \n",
            "\u001b[?25hCollecting pydantic==1.3\n",
            "\u001b[?25l  Downloading https://files.pythonhosted.org/packages/99/24/e78cf017628e7eaed20cb040999b1ecc69f872da53dfd0d9aed40c0fa5f1/pydantic-1.3-cp36-cp36m-manylinux2010_x86_64.whl (7.3MB)\n",
            "\u001b[K     |████████████████████████████████| 7.3MB 20.1MB/s \n",
            "\u001b[?25hCollecting ruamel.yaml==0.15.100\n",
            "\u001b[?25l  Downloading https://files.pythonhosted.org/packages/e7/9f/83bb34eaf84032b0b54fcc4a6aff1858572d279d65a301c7ae875f523df5/ruamel.yaml-0.15.100-cp36-cp36m-manylinux1_x86_64.whl (656kB)\n",
            "\u001b[K     |████████████████████████████████| 665kB 49.2MB/s \n",
            "\u001b[?25hCollecting nltk==3.4.5\n",
            "\u001b[?25l  Downloading https://files.pythonhosted.org/packages/f6/1d/d925cfb4f324ede997f6d47bea4d9babba51b49e87a767c170b77005889d/nltk-3.4.5.zip (1.5MB)\n",
            "\u001b[K     |████████████████████████████████| 1.5MB 48.1MB/s \n",
            "\u001b[?25hCollecting pandas==0.25.3\n",
            "\u001b[?25l  Downloading https://files.pythonhosted.org/packages/52/3f/f6a428599e0d4497e1595030965b5ba455fd8ade6e977e3c819973c4b41d/pandas-0.25.3-cp36-cp36m-manylinux1_x86_64.whl (10.4MB)\n",
            "\u001b[K     |████████████████████████████████| 10.4MB 43.4MB/s \n",
            "\u001b[?25hCollecting numpy==1.18.0\n",
            "\u001b[?25l  Downloading https://files.pythonhosted.org/packages/92/e6/45f71bd24f4e37629e9db5fb75caab919507deae6a5a257f9e4685a5f931/numpy-1.18.0-cp36-cp36m-manylinux1_x86_64.whl (20.1MB)\n",
            "\u001b[K     |████████████████████████████████| 20.1MB 1.4MB/s \n",
            "\u001b[?25hRequirement already satisfied: scipy==1.4.1 in /usr/local/lib/python3.6/dist-packages (from deeppavlov) (1.4.1)\n",
            "Requirement already satisfied: tqdm==4.41.1 in /usr/local/lib/python3.6/dist-packages (from deeppavlov) (4.41.1)\n",
            "Collecting pytz==2019.1\n",
            "\u001b[?25l  Downloading https://files.pythonhosted.org/packages/3d/73/fe30c2daaaa0713420d0382b16fbb761409f532c56bdcc514bf7b6262bb6/pytz-2019.1-py2.py3-none-any.whl (510kB)\n",
            "\u001b[K     |████████████████████████████████| 512kB 41.7MB/s \n",
            "\u001b[?25hCollecting requests==2.22.0\n",
            "\u001b[?25l  Downloading https://files.pythonhosted.org/packages/51/bd/23c926cd341ea6b7dd0b2a00aba99ae0f828be89d72b2190f27c11d4b7fb/requests-2.22.0-py2.py3-none-any.whl (57kB)\n",
            "\u001b[K     |████████████████████████████████| 61kB 6.8MB/s \n",
            "\u001b[?25hCollecting sacremoses==0.0.35\n",
            "\u001b[?25l  Downloading https://files.pythonhosted.org/packages/1f/8e/ed5364a06a9ba720fddd9820155cc57300d28f5f43a6fd7b7e817177e642/sacremoses-0.0.35.tar.gz (859kB)\n",
            "\u001b[K     |████████████████████████████████| 860kB 34.7MB/s \n",
            "\u001b[?25hCollecting aio-pika==6.4.1\n",
            "\u001b[?25l  Downloading https://files.pythonhosted.org/packages/c8/07/196a4115cbef31fa0c3dabdea146f02dffe5e49998341d20dbe2278953bc/aio_pika-6.4.1-py3-none-any.whl (40kB)\n",
            "\u001b[K     |████████████████████████████████| 51kB 6.7MB/s \n",
            "\u001b[?25hRequirement already satisfied: click==7.1.2 in /usr/local/lib/python3.6/dist-packages (from deeppavlov) (7.1.2)\n",
            "Collecting pytelegrambotapi==3.6.7\n",
            "\u001b[?25l  Downloading https://files.pythonhosted.org/packages/62/ab/99c606f69fcda57e35788b913dd34c9d9acb48dd26349141b3855dcf6351/pyTelegramBotAPI-3.6.7.tar.gz (65kB)\n",
            "\u001b[K     |████████████████████████████████| 71kB 8.7MB/s \n",
            "\u001b[?25hCollecting pymorphy2-dicts-ru\n",
            "\u001b[?25l  Downloading https://files.pythonhosted.org/packages/7c/9b/358faaff410f65a4ad159275e897b5956dcb20576c5b8e764b971c1634d7/pymorphy2_dicts_ru-2.4.404381.4453942-py2.py3-none-any.whl (8.0MB)\n",
            "\u001b[K     |████████████████████████████████| 8.0MB 42.0MB/s \n",
            "\u001b[?25hCollecting rusenttokenize==0.0.5\n",
            "  Downloading https://files.pythonhosted.org/packages/25/4c/a2f00be5def774a3df2e5387145f1cb54e324607ec4a7e23f573645946e7/rusenttokenize-0.0.5-py3-none-any.whl\n",
            "Collecting pyopenssl==19.1.0\n",
            "\u001b[?25l  Downloading https://files.pythonhosted.org/packages/9e/de/f8342b68fa9e981d348039954657bdf681b2ab93de27443be51865ffa310/pyOpenSSL-19.1.0-py2.py3-none-any.whl (53kB)\n",
            "\u001b[K     |████████████████████████████████| 61kB 7.9MB/s \n",
            "\u001b[?25hRequirement already satisfied: pybind11>=2.2 in /usr/local/lib/python3.6/dist-packages (from fasttext) (2.5.0)\n",
            "Requirement already satisfied: setuptools>=0.7.0 in /usr/local/lib/python3.6/dist-packages (from fasttext) (49.1.0)\n",
            "Collecting dawg-python>=0.7\n",
            "  Downloading https://files.pythonhosted.org/packages/6a/84/ff1ce2071d4c650ec85745766c0047ccc3b5036f1d03559fd46bb38b5eeb/DAWG_Python-0.7.2-py2.py3-none-any.whl\n",
            "Requirement already satisfied: docopt>=0.6 in /usr/local/lib/python3.6/dist-packages (from pymorphy2) (0.6.2)\n",
            "Collecting pymorphy2-dicts<3.0,>=2.4\n",
            "\u001b[?25l  Downloading https://files.pythonhosted.org/packages/02/51/2465fd4f72328ab50877b54777764d928da8cb15b74e2680fc1bd8cb3173/pymorphy2_dicts-2.4.393442.3710985-py2.py3-none-any.whl (7.1MB)\n",
            "\u001b[K     |████████████████████████████████| 7.1MB 28.9MB/s \n",
            "\u001b[?25hCollecting websockets==8.*\n",
            "\u001b[?25l  Downloading https://files.pythonhosted.org/packages/bb/d9/856af84843912e2853b1b6e898ac8b802989fcf9ecf8e8445a1da263bf3b/websockets-8.1-cp36-cp36m-manylinux2010_x86_64.whl (78kB)\n",
            "\u001b[K     |████████████████████████████████| 81kB 10.2MB/s \n",
            "\u001b[?25hCollecting h11<0.10,>=0.8\n",
            "\u001b[?25l  Downloading https://files.pythonhosted.org/packages/5a/fd/3dad730b0f95e78aeeb742f96fa7bbecbdd56a58e405d3da440d5bfb90c6/h11-0.9.0-py2.py3-none-any.whl (53kB)\n",
            "\u001b[K     |████████████████████████████████| 61kB 8.0MB/s \n",
            "\u001b[?25hCollecting uvloop>=0.14.0; sys_platform != \"win32\" and sys_platform != \"cygwin\" and platform_python_implementation != \"pypy\"\n",
            "\u001b[?25l  Downloading https://files.pythonhosted.org/packages/41/48/586225bbb02d3bdca475b17e4be5ce5b3f09da2d6979f359916c1592a687/uvloop-0.14.0-cp36-cp36m-manylinux2010_x86_64.whl (3.9MB)\n",
            "\u001b[K     |████████████████████████████████| 3.9MB 43.9MB/s \n",
            "\u001b[?25hCollecting httptools==0.0.13; sys_platform != \"win32\" and sys_platform != \"cygwin\" and platform_python_implementation != \"pypy\"\n",
            "\u001b[?25l  Downloading https://files.pythonhosted.org/packages/1b/03/215969db11abe8741e9c266a4cbe803a372bd86dd35fa0084c4df6d4bd00/httptools-0.0.13.tar.gz (104kB)\n",
            "\u001b[K     |████████████████████████████████| 112kB 50.4MB/s \n",
            "\u001b[?25hRequirement already satisfied: joblib>=0.11 in /usr/local/lib/python3.6/dist-packages (from scikit-learn==0.21.2->deeppavlov) (0.16.0)\n",
            "Requirement already satisfied: six in /usr/local/lib/python3.6/dist-packages (from h5py==2.10.0->deeppavlov) (1.15.0)\n",
            "Collecting starlette<=0.12.9,>=0.12.9\n",
            "\u001b[?25l  Downloading https://files.pythonhosted.org/packages/67/95/2220fe5bf287e693a6430d8ee36c681b0157035b7249ec08f8fb36319d16/starlette-0.12.9.tar.gz (46kB)\n",
            "\u001b[K     |████████████████████████████████| 51kB 7.0MB/s \n",
            "\u001b[?25hRequirement already satisfied: dataclasses>=0.6; python_version < \"3.7\" in /usr/local/lib/python3.6/dist-packages (from pydantic==1.3->deeppavlov) (0.7)\n",
            "Requirement already satisfied: python-dateutil>=2.6.1 in /usr/local/lib/python3.6/dist-packages (from pandas==0.25.3->deeppavlov) (2.8.1)\n",
            "Requirement already satisfied: certifi>=2017.4.17 in /usr/local/lib/python3.6/dist-packages (from requests==2.22.0->deeppavlov) (2020.6.20)\n",
            "Requirement already satisfied: chardet<3.1.0,>=3.0.2 in /usr/local/lib/python3.6/dist-packages (from requests==2.22.0->deeppavlov) (3.0.4)\n",
            "Collecting idna<2.9,>=2.5\n",
            "\u001b[?25l  Downloading https://files.pythonhosted.org/packages/14/2c/cd551d81dbe15200be1cf41cd03869a46fe7226e7450af7a6545bfc474c9/idna-2.8-py2.py3-none-any.whl (58kB)\n",
            "\u001b[K     |████████████████████████████████| 61kB 7.5MB/s \n",
            "\u001b[?25hRequirement already satisfied: urllib3!=1.25.0,!=1.25.1,<1.26,>=1.21.1 in /usr/local/lib/python3.6/dist-packages (from requests==2.22.0->deeppavlov) (1.24.3)\n",
            "Collecting aiormq<4,>=3.2.0\n",
            "  Downloading https://files.pythonhosted.org/packages/ed/90/e8089608c2fcf75d6a8ff805611a1e31ed7cc523f5eafe244a2fb3dd75b8/aiormq-3.2.2-py3-none-any.whl\n",
            "Collecting yarl\n",
            "\u001b[?25l  Downloading https://files.pythonhosted.org/packages/95/8f/0209fc5d975f839344c33c822ff2f7ef80f6b1e984673a5a68f960bfa583/yarl-1.4.2-cp36-cp36m-manylinux1_x86_64.whl (252kB)\n",
            "\u001b[K     |████████████████████████████████| 256kB 52.5MB/s \n",
            "\u001b[?25hCollecting cryptography>=2.8\n",
            "\u001b[?25l  Downloading https://files.pythonhosted.org/packages/ba/91/84a29d6a27fd6dfc21f475704c4d2053d58ed7a4033c2b0ce1b4ca4d03d9/cryptography-3.0-cp35-abi3-manylinux2010_x86_64.whl (2.7MB)\n",
            "\u001b[K     |████████████████████████████████| 2.7MB 44.4MB/s \n",
            "\u001b[?25hCollecting pamqp==2.3.0\n",
            "  Downloading https://files.pythonhosted.org/packages/eb/56/afa06143361e640c9159d828dadc95fc9195c52c95b4a97d136617b0166d/pamqp-2.3.0-py2.py3-none-any.whl\n",
            "Collecting multidict>=4.0\n",
            "\u001b[?25l  Downloading https://files.pythonhosted.org/packages/1a/95/f50352b5366e7d579e8b99631680a9e32e1b22adfa1629a8f23b1d22d5e2/multidict-4.7.6-cp36-cp36m-manylinux1_x86_64.whl (148kB)\n",
            "\u001b[K     |████████████████████████████████| 153kB 52.3MB/s \n",
            "\u001b[?25hRequirement already satisfied: cffi!=1.11.3,>=1.8 in /usr/local/lib/python3.6/dist-packages (from cryptography>=2.8->pyopenssl==19.1.0->deeppavlov) (1.14.0)\n",
            "Requirement already satisfied: pycparser in /usr/local/lib/python3.6/dist-packages (from cffi!=1.11.3,>=1.8->cryptography>=2.8->pyopenssl==19.1.0->deeppavlov) (2.20)\n",
            "Building wheels for collected packages: fasttext, overrides, nltk, sacremoses, pytelegrambotapi, httptools, starlette\n",
            "  Building wheel for fasttext (setup.py) ... \u001b[?25l\u001b[?25hdone\n",
            "  Created wheel for fasttext: filename=fasttext-0.9.2-cp36-cp36m-linux_x86_64.whl size=3013449 sha256=db6a8df4491ae700e025f9f33008e6fa6bbbb04d88954964b96f1c66e380c238\n",
            "  Stored in directory: /root/.cache/pip/wheels/98/ba/7f/b154944a1cf5a8cee91c154b75231136cc3a3321ab0e30f592\n",
            "  Building wheel for overrides (setup.py) ... \u001b[?25l\u001b[?25hdone\n",
            "  Created wheel for overrides: filename=overrides-2.7.0-cp36-none-any.whl size=5600 sha256=f27e7d58ba0a9faabb1d359acb5308f176e752800e943da5851daaf251baee64\n",
            "  Stored in directory: /root/.cache/pip/wheels/8c/7c/ef/80508418b67d87371c5b3de49e03eb22ee7c1d19affb5099f8\n",
            "  Building wheel for nltk (setup.py) ... \u001b[?25l\u001b[?25hdone\n",
            "  Created wheel for nltk: filename=nltk-3.4.5-cp36-none-any.whl size=1449905 sha256=edb02698cde70c7fcde6fe78fada4e3670176179207274d6a5391a686f1088b2\n",
            "  Stored in directory: /root/.cache/pip/wheels/96/86/f6/68ab24c23f207c0077381a5e3904b2815136b879538a24b483\n",
            "  Building wheel for sacremoses (setup.py) ... \u001b[?25l\u001b[?25hdone\n",
            "  Created wheel for sacremoses: filename=sacremoses-0.0.35-cp36-none-any.whl size=883999 sha256=65e1de0b1fa6f1313c284d9c460610ab9122e7f4b56eb75aa1ff591e487ffa6d\n",
            "  Stored in directory: /root/.cache/pip/wheels/63/2a/db/63e2909042c634ef551d0d9ac825b2b0b32dede4a6d87ddc94\n",
            "  Building wheel for pytelegrambotapi (setup.py) ... \u001b[?25l\u001b[?25hdone\n",
            "  Created wheel for pytelegrambotapi: filename=pyTelegramBotAPI-3.6.7-cp36-none-any.whl size=47178 sha256=f8133e8376ace1c9b9c44965a94ed07658606411a3783d03d614406daa65881c\n",
            "  Stored in directory: /root/.cache/pip/wheels/23/40/18/8a34153f95ef0dc19e3954898e5a5079244b76a8afdd7d0ec5\n",
            "  Building wheel for httptools (setup.py) ... \u001b[?25l\u001b[?25hdone\n",
            "  Created wheel for httptools: filename=httptools-0.0.13-cp36-cp36m-linux_x86_64.whl size=212535 sha256=4503ed2db9a76aef603ee843ec255f8c35d16b33fb55bfbb6d3d92a51de4273d\n",
            "  Stored in directory: /root/.cache/pip/wheels/e8/3e/2e/013f99b42efc25cf3589730cf380738e46b1e5edaf2f78d525\n",
            "  Building wheel for starlette (setup.py) ... \u001b[?25l\u001b[?25hdone\n",
            "  Created wheel for starlette: filename=starlette-0.12.9-cp36-none-any.whl size=57245 sha256=483d78dc63dbdecdb1d332342041df36bbc15743d8c67f0c3faefb5cefe10981\n",
            "  Stored in directory: /root/.cache/pip/wheels/1c/51/5b/3828d52e185cafad941c4291b6f70894d0794be28c70addae5\n",
            "Successfully built fasttext overrides nltk sacremoses pytelegrambotapi httptools starlette\n",
            "\u001b[31mERROR: google-colab 1.0.0 has requirement pandas~=1.0.0; python_version >= \"3.0\", but you'll have pandas 0.25.3 which is incompatible.\u001b[0m\n",
            "\u001b[31mERROR: google-colab 1.0.0 has requirement requests~=2.23.0, but you'll have requests 2.22.0 which is incompatible.\u001b[0m\n",
            "\u001b[31mERROR: datascience 0.10.6 has requirement folium==0.2.1, but you'll have folium 0.8.3 which is incompatible.\u001b[0m\n",
            "\u001b[31mERROR: albumentations 0.1.12 has requirement imgaug<0.2.7,>=0.2.5, but you'll have imgaug 0.2.9 which is incompatible.\u001b[0m\n",
            "Installing collected packages: websockets, h11, uvloop, httptools, uvicorn, numpy, scikit-learn, overrides, Cython, starlette, pydantic, fastapi, ruamel.yaml, nltk, pytz, pandas, dawg-python, pymorphy2-dicts, pymorphy2, idna, requests, sacremoses, pamqp, multidict, yarl, aiormq, aio-pika, pytelegrambotapi, pymorphy2-dicts-ru, rusenttokenize, cryptography, pyopenssl, deeppavlov, fasttext\n",
            "  Found existing installation: numpy 1.18.5\n",
            "    Uninstalling numpy-1.18.5:\n",
            "      Successfully uninstalled numpy-1.18.5\n",
            "  Found existing installation: scikit-learn 0.22.2.post1\n",
            "    Uninstalling scikit-learn-0.22.2.post1:\n",
            "      Successfully uninstalled scikit-learn-0.22.2.post1\n",
            "  Found existing installation: Cython 0.29.21\n",
            "    Uninstalling Cython-0.29.21:\n",
            "      Successfully uninstalled Cython-0.29.21\n",
            "  Found existing installation: nltk 3.2.5\n",
            "    Uninstalling nltk-3.2.5:\n",
            "      Successfully uninstalled nltk-3.2.5\n",
            "  Found existing installation: pytz 2018.9\n",
            "    Uninstalling pytz-2018.9:\n",
            "      Successfully uninstalled pytz-2018.9\n",
            "  Found existing installation: pandas 1.0.5\n",
            "    Uninstalling pandas-1.0.5:\n",
            "      Successfully uninstalled pandas-1.0.5\n",
            "  Found existing installation: idna 2.10\n",
            "    Uninstalling idna-2.10:\n",
            "      Successfully uninstalled idna-2.10\n",
            "  Found existing installation: requests 2.23.0\n",
            "    Uninstalling requests-2.23.0:\n",
            "      Successfully uninstalled requests-2.23.0\n",
            "Successfully installed Cython-0.29.14 aio-pika-6.4.1 aiormq-3.2.2 cryptography-3.0 dawg-python-0.7.2 deeppavlov-0.11.0 fastapi-0.47.1 fasttext-0.9.2 h11-0.9.0 httptools-0.0.13 idna-2.8 multidict-4.7.6 nltk-3.4.5 numpy-1.18.0 overrides-2.7.0 pamqp-2.3.0 pandas-0.25.3 pydantic-1.3 pymorphy2-0.8 pymorphy2-dicts-2.4.393442.3710985 pymorphy2-dicts-ru-2.4.404381.4453942 pyopenssl-19.1.0 pytelegrambotapi-3.6.7 pytz-2019.1 requests-2.22.0 ruamel.yaml-0.15.100 rusenttokenize-0.0.5 sacremoses-0.0.35 scikit-learn-0.21.2 starlette-0.12.9 uvicorn-0.11.1 uvloop-0.14.0 websockets-8.1 yarl-1.4.2\n"
          ],
          "name": "stdout"
        },
        {
          "output_type": "display_data",
          "data": {
            "application/vnd.colab-display-data+json": {
              "pip_warning": {
                "packages": [
                  "idna",
                  "numpy",
                  "pandas",
                  "pytz",
                  "requests"
                ]
              }
            }
          },
          "metadata": {
            "tags": []
          }
        }
      ]
    },
    {
      "cell_type": "code",
      "metadata": {
        "id": "KFWmnoD5ZjYW",
        "colab_type": "code",
        "colab": {
          "base_uri": "https://localhost:8080/",
          "height": 1000
        },
        "outputId": "06b06658-5de4-4ae8-d9a6-a179422ef9dd"
      },
      "source": [
        "!python -m deeppavlov install morpho_ru_syntagrus_pymorphy"
      ],
      "execution_count": 2,
      "outputs": [
        {
          "output_type": "stream",
          "text": [
            "2020-07-24 12:24:38.985 INFO in 'deeppavlov.core.common.file'['file'] at line 32: Interpreting 'morpho_ru_syntagrus_pymorphy' as '/usr/local/lib/python3.6/dist-packages/deeppavlov/configs/morpho_tagger/UD2.0/morpho_ru_syntagrus_pymorphy.json'\n",
            "Collecting tensorflow==1.15.2\n",
            "\u001b[?25l  Downloading https://files.pythonhosted.org/packages/9a/d9/fd234c7bf68638423fb8e7f44af7fcfce3bcaf416b51e6d902391e47ec43/tensorflow-1.15.2-cp36-cp36m-manylinux2010_x86_64.whl (110.5MB)\n",
            "\u001b[K     |████████████████████████████████| 110.5MB 44kB/s \n",
            "\u001b[?25hCollecting tensorboard<1.16.0,>=1.15.0\n",
            "\u001b[?25l  Downloading https://files.pythonhosted.org/packages/1e/e9/d3d747a97f7188f48aa5eda486907f3b345cd409f0a0850468ba867db246/tensorboard-1.15.0-py3-none-any.whl (3.8MB)\n",
            "\u001b[K     |████████████████████████████████| 3.8MB 29.1MB/s \n",
            "\u001b[?25hRequirement already satisfied: opt-einsum>=2.3.2 in /usr/local/lib/python3.6/dist-packages (from tensorflow==1.15.2) (3.2.1)\n",
            "Collecting tensorflow-estimator==1.15.1\n",
            "\u001b[?25l  Downloading https://files.pythonhosted.org/packages/de/62/2ee9cd74c9fa2fa450877847ba560b260f5d0fb70ee0595203082dafcc9d/tensorflow_estimator-1.15.1-py2.py3-none-any.whl (503kB)\n",
            "\u001b[K     |████████████████████████████████| 512kB 32.1MB/s \n",
            "\u001b[?25hRequirement already satisfied: wrapt>=1.11.1 in /usr/local/lib/python3.6/dist-packages (from tensorflow==1.15.2) (1.12.1)\n",
            "Requirement already satisfied: wheel>=0.26; python_version >= \"3\" in /usr/local/lib/python3.6/dist-packages (from tensorflow==1.15.2) (0.34.2)\n",
            "Requirement already satisfied: astor>=0.6.0 in /usr/local/lib/python3.6/dist-packages (from tensorflow==1.15.2) (0.8.1)\n",
            "Collecting gast==0.2.2\n",
            "  Downloading https://files.pythonhosted.org/packages/4e/35/11749bf99b2d4e3cceb4d55ca22590b0d7c2c62b9de38ac4a4a7f4687421/gast-0.2.2.tar.gz\n",
            "Requirement already satisfied: protobuf>=3.6.1 in /usr/local/lib/python3.6/dist-packages (from tensorflow==1.15.2) (3.12.2)\n",
            "Requirement already satisfied: keras-preprocessing>=1.0.5 in /usr/local/lib/python3.6/dist-packages (from tensorflow==1.15.2) (1.1.2)\n",
            "Requirement already satisfied: six>=1.10.0 in /usr/local/lib/python3.6/dist-packages (from tensorflow==1.15.2) (1.15.0)\n",
            "Requirement already satisfied: absl-py>=0.7.0 in /usr/local/lib/python3.6/dist-packages (from tensorflow==1.15.2) (0.9.0)\n",
            "Requirement already satisfied: numpy<2.0,>=1.16.0 in /usr/local/lib/python3.6/dist-packages (from tensorflow==1.15.2) (1.18.0)\n",
            "Requirement already satisfied: google-pasta>=0.1.6 in /usr/local/lib/python3.6/dist-packages (from tensorflow==1.15.2) (0.2.0)\n",
            "Requirement already satisfied: termcolor>=1.1.0 in /usr/local/lib/python3.6/dist-packages (from tensorflow==1.15.2) (1.1.0)\n",
            "Requirement already satisfied: keras-applications>=1.0.8 in /usr/local/lib/python3.6/dist-packages (from tensorflow==1.15.2) (1.0.8)\n",
            "Requirement already satisfied: grpcio>=1.8.6 in /usr/local/lib/python3.6/dist-packages (from tensorflow==1.15.2) (1.30.0)\n",
            "Requirement already satisfied: werkzeug>=0.11.15 in /usr/local/lib/python3.6/dist-packages (from tensorboard<1.16.0,>=1.15.0->tensorflow==1.15.2) (1.0.1)\n",
            "Requirement already satisfied: markdown>=2.6.8 in /usr/local/lib/python3.6/dist-packages (from tensorboard<1.16.0,>=1.15.0->tensorflow==1.15.2) (3.2.2)\n",
            "Requirement already satisfied: setuptools>=41.0.0 in /usr/local/lib/python3.6/dist-packages (from tensorboard<1.16.0,>=1.15.0->tensorflow==1.15.2) (49.1.0)\n",
            "Requirement already satisfied: h5py in /usr/local/lib/python3.6/dist-packages (from keras-applications>=1.0.8->tensorflow==1.15.2) (2.10.0)\n",
            "Requirement already satisfied: importlib-metadata; python_version < \"3.8\" in /usr/local/lib/python3.6/dist-packages (from markdown>=2.6.8->tensorboard<1.16.0,>=1.15.0->tensorflow==1.15.2) (1.7.0)\n",
            "Requirement already satisfied: zipp>=0.5 in /usr/local/lib/python3.6/dist-packages (from importlib-metadata; python_version < \"3.8\"->markdown>=2.6.8->tensorboard<1.16.0,>=1.15.0->tensorflow==1.15.2) (3.1.0)\n",
            "Building wheels for collected packages: gast\n",
            "  Building wheel for gast (setup.py) ... \u001b[?25l\u001b[?25hdone\n",
            "  Created wheel for gast: filename=gast-0.2.2-cp36-none-any.whl size=7540 sha256=fb27d4f35eacd06b103fa3368e30983bd76bfb071a9299154afdeb5059ba6554\n",
            "  Stored in directory: /root/.cache/pip/wheels/5c/2e/7e/a1d4d4fcebe6c381f378ce7743a3ced3699feb89bcfbdadadd\n",
            "Successfully built gast\n",
            "\u001b[31mERROR: tensorflow-probability 0.10.0 has requirement gast>=0.3.2, but you'll have gast 0.2.2 which is incompatible.\u001b[0m\n",
            "Installing collected packages: tensorboard, tensorflow-estimator, gast, tensorflow\n",
            "  Found existing installation: tensorboard 2.2.2\n",
            "    Uninstalling tensorboard-2.2.2:\n",
            "      Successfully uninstalled tensorboard-2.2.2\n",
            "  Found existing installation: tensorflow-estimator 2.2.0\n",
            "    Uninstalling tensorflow-estimator-2.2.0:\n",
            "      Successfully uninstalled tensorflow-estimator-2.2.0\n",
            "  Found existing installation: gast 0.3.3\n",
            "    Uninstalling gast-0.3.3:\n",
            "      Successfully uninstalled gast-0.3.3\n",
            "  Found existing installation: tensorflow 2.2.0\n",
            "    Uninstalling tensorflow-2.2.0:\n",
            "      Successfully uninstalled tensorflow-2.2.0\n",
            "Successfully installed gast-0.2.2 tensorboard-1.15.0 tensorflow-1.15.2 tensorflow-estimator-1.15.1\n",
            "Collecting russian-tagsets==0.6\n",
            "  Downloading https://files.pythonhosted.org/packages/2d/b1/c9377d472a04fb9b84f59365560d68b5d868b589691f32545eb606b3be48/russian-tagsets-0.6.tar.gz\n",
            "Building wheels for collected packages: russian-tagsets\n",
            "  Building wheel for russian-tagsets (setup.py) ... \u001b[?25l\u001b[?25hdone\n",
            "  Created wheel for russian-tagsets: filename=russian_tagsets-0.6-cp36-none-any.whl size=24636 sha256=76f0c3a32c7d39ed80fa62fddae872bd5b29fd9accb8c4933d2bab8915e9a386\n",
            "  Stored in directory: /root/.cache/pip/wheels/e8/9d/dd/4679aca4031fdb0d3ad65e165ba5343e61441ed7ad587a08e6\n",
            "Successfully built russian-tagsets\n",
            "Installing collected packages: russian-tagsets\n",
            "Successfully installed russian-tagsets-0.6\n"
          ],
          "name": "stdout"
        }
      ]
    },
    {
      "cell_type": "code",
      "metadata": {
        "id": "b3mOUxXhZ_yr",
        "colab_type": "code",
        "colab": {}
      },
      "source": [
        "!set \"KERAS_BACKEND=tensorflow\""
      ],
      "execution_count": 3,
      "outputs": []
    },
    {
      "cell_type": "code",
      "metadata": {
        "id": "51fwFTKmaQwM",
        "colab_type": "code",
        "colab": {}
      },
      "source": [
        "import numpy as np\n",
        "import re\n",
        "import os\n",
        "\n",
        "os.environ[\"KERAS_BACKEND\"] = \"tensorflow\""
      ],
      "execution_count": 4,
      "outputs": []
    },
    {
      "cell_type": "markdown",
      "metadata": {
        "id": "7tei9KsTx96R",
        "colab_type": "text"
      },
      "source": [
        "# Загрузим и посмотрим на текст"
      ]
    },
    {
      "cell_type": "code",
      "metadata": {
        "id": "zovk5zKEvWU4",
        "colab_type": "code",
        "colab": {
          "base_uri": "https://localhost:8080/",
          "height": 125
        },
        "outputId": "3ca3149f-edc0-477c-9006-af48c8f13c7b"
      },
      "source": [
        "with open('Dostoevsky.txt', 'r') as f:\n",
        "    text = f.read()\n",
        "\n",
        "print(text)"
      ],
      "execution_count": 5,
      "outputs": [
        {
          "output_type": "stream",
          "text": [
            "В начале июля, в чрезвычайно жаркое время, под вечер, один молодой человек вышел из своей каморки, которую нанимал от жильцов в С — м переулке, на улицу и медленно, как бы в нерешимости, отправился к К — ну мосту.\n",
            "Он благополучно избегнул встречи с своею хозяйкой на лестнице. Каморка его приходилась под самою кровлей высокого пятиэтажного дома и походила более на шкаф, чем на квартиру. Квартирная же хозяйка его, у которой он нанимал эту каморку с обедом и прислугой, помещалась одною лестницей ниже, в отдельной квартире, и каждый раз, при выходе на улицу, ему непременно надо было проходить мимо хозяйкиной кухни, почти всегда настежь отворенной на лестницу. И каждый раз молодой человек, проходя мимо, чувствовал какое-то болезненное и трусливое ощущение, которого стыдился и от которого морщился. Он был должен кругом хозяйке и боялся с нею встретиться.\n",
            "Не то чтоб он был так труслив и забит, совсем даже напротив; но с некоторого времени он был в раздражительном и напряженном состоянии, похожем на ипохондрию. Он до того углубился в себя и уединился от всех, что боялся даже всякой встречи, не только встречи с хозяйкой. Он был задавлен бедностью; но даже стесненное положение перестало в последнее время тяготить его. Насущными делами своими он совсем перестал и не хотел заниматься. Никакой хозяйки, в сущности, он не боялся, что бы та ни замышляла против него. Но останавливаться на лестнице, слушать всякий вздор про всю эту обыденную дребедень, до которой ему нет никакого дела, все эти приставания о платеже, угрозы, жалобы, и при этом самому изворачиваться, извиняться, лгать, — нет уж, лучше проскользнуть как-нибудь кошкой по лестнице и улизнуть, чтобы никто не видал.\n",
            "Впрочем, на этот раз страх встречи с своею кредиторшей даже его самого поразил по выходе на улицу.\n",
            "«На какое дело хочу покуситься и в то же время каких пустяков боюсь! — подумал он с странною улыбкой.\n"
          ],
          "name": "stdout"
        }
      ]
    },
    {
      "cell_type": "code",
      "metadata": {
        "id": "AljMmq6UvuI6",
        "colab_type": "code",
        "colab": {
          "base_uri": "https://localhost:8080/",
          "height": 34
        },
        "outputId": "a3d60532-f161-4baa-8cd8-ba43f452bc65"
      },
      "source": [
        "print(len(re.split('\\W+', text)))"
      ],
      "execution_count": 6,
      "outputs": [
        {
          "output_type": "stream",
          "text": [
            "302\n"
          ],
          "name": "stdout"
        }
      ]
    },
    {
      "cell_type": "markdown",
      "metadata": {
        "id": "X-uLCl3Xkikv",
        "colab_type": "text"
      },
      "source": [
        "# Загрузим модели и инициализируем классы для обработки текстов"
      ]
    },
    {
      "cell_type": "code",
      "metadata": {
        "id": "YoqKXQ_XktI3",
        "colab_type": "code",
        "colab": {
          "base_uri": "https://localhost:8080/",
          "height": 1000
        },
        "outputId": "304bbd1c-893b-473f-8e1c-9eab91a0e280"
      },
      "source": [
        "# Определение частей речи\n",
        "from deeppavlov import build_model, configs\n",
        "model = build_model(configs.morpho_tagger.UD2_0.morpho_ru_syntagrus_pymorphy, download=True)\n",
        "\n",
        "# Предобученные ELMo эмбеддинги\n",
        "from deeppavlov.models.embedders.elmo_embedder import ELMoEmbedder\n",
        "elmo = ELMoEmbedder(\"http://files.deeppavlov.ai/deeppavlov_data/elmo_ru-news_wmt11-16_1.5M_steps.tar.gz\")\n",
        "\n",
        "# Лемматизация\n",
        "import pymorphy2 \n",
        "morph = pymorphy2.MorphAnalyzer()"
      ],
      "execution_count": 7,
      "outputs": [
        {
          "output_type": "stream",
          "text": [
            "2020-07-24 12:25:38.505 INFO in 'deeppavlov.core.data.utils'['utils'] at line 94: Downloading from http://files.deeppavlov.ai/datasets/UD2.0_source/ru_syntagrus.tar.gz to /root/.deeppavlov/downloads/UD2.0_source/ru_syntagrus.tar.gz\n",
            "100%|██████████| 18.0M/18.0M [00:06<00:00, 2.96MB/s]\n",
            "2020-07-24 12:25:44.971 INFO in 'deeppavlov.core.data.utils'['utils'] at line 269: Extracting /root/.deeppavlov/downloads/UD2.0_source/ru_syntagrus.tar.gz archive into /root/.deeppavlov/downloads/UD2.0_source/ru_syntagrus\n",
            "2020-07-24 12:25:46.489 INFO in 'deeppavlov.core.data.utils'['utils'] at line 94: Downloading from http://files.deeppavlov.ai/deeppavlov_data/morpho_tagger/UD2.0/ru_syntagrus.tar.gz to /root/.deeppavlov/models/morpho_tagger/UD2.0/ru_syntagrus.tar.gz\n",
            "100%|██████████| 30.7M/30.7M [00:08<00:00, 3.70MB/s]\n",
            "2020-07-24 12:25:55.156 INFO in 'deeppavlov.core.data.utils'['utils'] at line 269: Extracting /root/.deeppavlov/models/morpho_tagger/UD2.0/ru_syntagrus.tar.gz archive into /root/.deeppavlov/models/morpho_tagger/UD2.0/ru_syntagrus\n",
            "[nltk_data] Downloading package punkt to /root/nltk_data...\n",
            "[nltk_data]   Unzipping tokenizers/punkt.zip.\n",
            "[nltk_data] Downloading package stopwords to /root/nltk_data...\n",
            "[nltk_data]   Unzipping corpora/stopwords.zip.\n",
            "[nltk_data] Downloading package perluniprops to /root/nltk_data...\n",
            "[nltk_data]   Unzipping misc/perluniprops.zip.\n",
            "[nltk_data] Downloading package nonbreaking_prefixes to\n",
            "[nltk_data]     /root/nltk_data...\n",
            "[nltk_data]   Unzipping corpora/nonbreaking_prefixes.zip.\n",
            "2020-07-24 12:25:57.56 INFO in 'deeppavlov.core.data.simple_vocab'['simple_vocab'] at line 115: [loading vocabulary from /root/.deeppavlov/models/morpho_tagger/UD2.0/ru_syntagrus/tag.dict]\n",
            "2020-07-24 12:25:57.59 INFO in 'deeppavlov.core.data.simple_vocab'['simple_vocab'] at line 115: [loading vocabulary from /root/.deeppavlov/models/morpho_tagger/UD2.0/ru_syntagrus/char.dict]\n"
          ],
          "name": "stderr"
        },
        {
          "output_type": "stream",
          "text": [
            "WARNING:tensorflow:From /usr/local/lib/python3.6/dist-packages/deeppavlov/core/models/tf_backend.py:38: The name tf.keras.backend.set_session is deprecated. Please use tf.compat.v1.keras.backend.set_session instead.\n",
            "\n"
          ],
          "name": "stdout"
        },
        {
          "output_type": "stream",
          "text": [
            "2020-07-24 12:25:58.582 INFO in 'deeppavlov.models.morpho_tagger.morpho_tagger'['morpho_tagger'] at line 166: 99 symbols, 711 tags in CharacterTagger\n"
          ],
          "name": "stderr"
        },
        {
          "output_type": "stream",
          "text": [
            "WARNING:tensorflow:From /usr/local/lib/python3.6/dist-packages/tensorflow_core/python/ops/resource_variable_ops.py:1630: calling BaseResourceVariable.__init__ (from tensorflow.python.ops.resource_variable_ops) with constraint is deprecated and will be removed in a future version.\n",
            "Instructions for updating:\n",
            "If using Keras pass *_constraint arguments to layers.\n",
            "WARNING:tensorflow:From /usr/local/lib/python3.6/dist-packages/tensorflow_core/python/keras/initializers.py:119: calling RandomUniform.__init__ (from tensorflow.python.ops.init_ops) with dtype is deprecated and will be removed in a future version.\n",
            "Instructions for updating:\n",
            "Call initializer instance with the dtype argument instead of passing it to the constructor\n",
            "WARNING:tensorflow:From /usr/local/lib/python3.6/dist-packages/tensorflow_core/python/ops/init_ops.py:97: calling GlorotUniform.__init__ (from tensorflow.python.ops.init_ops) with dtype is deprecated and will be removed in a future version.\n",
            "Instructions for updating:\n",
            "Call initializer instance with the dtype argument instead of passing it to the constructor\n",
            "WARNING:tensorflow:From /usr/local/lib/python3.6/dist-packages/tensorflow_core/python/ops/init_ops.py:97: calling Orthogonal.__init__ (from tensorflow.python.ops.init_ops) with dtype is deprecated and will be removed in a future version.\n",
            "Instructions for updating:\n",
            "Call initializer instance with the dtype argument instead of passing it to the constructor\n",
            "WARNING:tensorflow:From /usr/local/lib/python3.6/dist-packages/tensorflow_core/python/ops/init_ops.py:97: calling Zeros.__init__ (from tensorflow.python.ops.init_ops) with dtype is deprecated and will be removed in a future version.\n",
            "Instructions for updating:\n",
            "Call initializer instance with the dtype argument instead of passing it to the constructor\n"
          ],
          "name": "stdout"
        },
        {
          "output_type": "stream",
          "text": [
            "2020-07-24 12:26:00.214 INFO in 'deeppavlov.models.morpho_tagger.morpho_tagger'['layer_utils'] at line 165: Model: \"model\"\n",
            "2020-07-24 12:26:00.215 INFO in 'deeppavlov.models.morpho_tagger.morpho_tagger'['layer_utils'] at line 166: __________________________________________________________________________________________________\n",
            "2020-07-24 12:26:00.217 INFO in 'deeppavlov.models.morpho_tagger.morpho_tagger'['layer_utils'] at line 163: Layer (type)                    Output Shape         Param #     Connected to                     \n",
            "2020-07-24 12:26:00.218 INFO in 'deeppavlov.models.morpho_tagger.morpho_tagger'['layer_utils'] at line 168: ==================================================================================================\n",
            "2020-07-24 12:26:00.219 INFO in 'deeppavlov.models.morpho_tagger.morpho_tagger'['layer_utils'] at line 163: input_1 (InputLayer)            [(None, None, 32)]   0                                            \n",
            "2020-07-24 12:26:00.221 INFO in 'deeppavlov.models.morpho_tagger.morpho_tagger'['layer_utils'] at line 232: __________________________________________________________________________________________________\n",
            "2020-07-24 12:26:00.222 INFO in 'deeppavlov.models.morpho_tagger.morpho_tagger'['layer_utils'] at line 163: lambda (Lambda)                 (None, None, 32, 99) 0           input_1[0][0]                    \n",
            "2020-07-24 12:26:00.223 INFO in 'deeppavlov.models.morpho_tagger.morpho_tagger'['layer_utils'] at line 232: __________________________________________________________________________________________________\n",
            "2020-07-24 12:26:00.224 INFO in 'deeppavlov.models.morpho_tagger.morpho_tagger'['layer_utils'] at line 163: dense (Dense)                   (None, None, 32, 32) 3168        lambda[0][0]                     \n",
            "2020-07-24 12:26:00.225 INFO in 'deeppavlov.models.morpho_tagger.morpho_tagger'['layer_utils'] at line 232: __________________________________________________________________________________________________\n",
            "2020-07-24 12:26:00.226 INFO in 'deeppavlov.models.morpho_tagger.morpho_tagger'['layer_utils'] at line 163: conv2d (Conv2D)                 (None, None, 32, 50) 1650        dense[0][0]                      \n",
            "2020-07-24 12:26:00.228 INFO in 'deeppavlov.models.morpho_tagger.morpho_tagger'['layer_utils'] at line 232: __________________________________________________________________________________________________\n",
            "2020-07-24 12:26:00.229 INFO in 'deeppavlov.models.morpho_tagger.morpho_tagger'['layer_utils'] at line 163: conv2d_1 (Conv2D)               (None, None, 32, 100 6500        dense[0][0]                      \n",
            "2020-07-24 12:26:00.229 INFO in 'deeppavlov.models.morpho_tagger.morpho_tagger'['layer_utils'] at line 232: __________________________________________________________________________________________________\n",
            "2020-07-24 12:26:00.230 INFO in 'deeppavlov.models.morpho_tagger.morpho_tagger'['layer_utils'] at line 163: conv2d_2 (Conv2D)               (None, None, 32, 150 14550       dense[0][0]                      \n",
            "2020-07-24 12:26:00.231 INFO in 'deeppavlov.models.morpho_tagger.morpho_tagger'['layer_utils'] at line 232: __________________________________________________________________________________________________\n",
            "2020-07-24 12:26:00.232 INFO in 'deeppavlov.models.morpho_tagger.morpho_tagger'['layer_utils'] at line 163: conv2d_3 (Conv2D)               (None, None, 32, 200 25800       dense[0][0]                      \n",
            "2020-07-24 12:26:00.233 INFO in 'deeppavlov.models.morpho_tagger.morpho_tagger'['layer_utils'] at line 232: __________________________________________________________________________________________________\n",
            "2020-07-24 12:26:00.234 INFO in 'deeppavlov.models.morpho_tagger.morpho_tagger'['layer_utils'] at line 163: conv2d_4 (Conv2D)               (None, None, 32, 200 32200       dense[0][0]                      \n",
            "2020-07-24 12:26:00.235 INFO in 'deeppavlov.models.morpho_tagger.morpho_tagger'['layer_utils'] at line 232: __________________________________________________________________________________________________\n",
            "2020-07-24 12:26:00.236 INFO in 'deeppavlov.models.morpho_tagger.morpho_tagger'['layer_utils'] at line 163: conv2d_5 (Conv2D)               (None, None, 32, 200 38600       dense[0][0]                      \n",
            "2020-07-24 12:26:00.237 INFO in 'deeppavlov.models.morpho_tagger.morpho_tagger'['layer_utils'] at line 232: __________________________________________________________________________________________________\n",
            "2020-07-24 12:26:00.238 INFO in 'deeppavlov.models.morpho_tagger.morpho_tagger'['layer_utils'] at line 163: conv2d_6 (Conv2D)               (None, None, 32, 200 45000       dense[0][0]                      \n",
            "2020-07-24 12:26:00.240 INFO in 'deeppavlov.models.morpho_tagger.morpho_tagger'['layer_utils'] at line 232: __________________________________________________________________________________________________\n",
            "2020-07-24 12:26:00.240 INFO in 'deeppavlov.models.morpho_tagger.morpho_tagger'['layer_utils'] at line 163: concatenate (Concatenate)       (None, None, 32, 110 0           conv2d[0][0]                     \n",
            "2020-07-24 12:26:00.241 INFO in 'deeppavlov.models.morpho_tagger.morpho_tagger'['layer_utils'] at line 163:                                                                  conv2d_1[0][0]                   \n",
            "2020-07-24 12:26:00.242 INFO in 'deeppavlov.models.morpho_tagger.morpho_tagger'['layer_utils'] at line 163:                                                                  conv2d_2[0][0]                   \n",
            "2020-07-24 12:26:00.242 INFO in 'deeppavlov.models.morpho_tagger.morpho_tagger'['layer_utils'] at line 163:                                                                  conv2d_3[0][0]                   \n",
            "2020-07-24 12:26:00.243 INFO in 'deeppavlov.models.morpho_tagger.morpho_tagger'['layer_utils'] at line 163:                                                                  conv2d_4[0][0]                   \n",
            "2020-07-24 12:26:00.244 INFO in 'deeppavlov.models.morpho_tagger.morpho_tagger'['layer_utils'] at line 163:                                                                  conv2d_5[0][0]                   \n",
            "2020-07-24 12:26:00.245 INFO in 'deeppavlov.models.morpho_tagger.morpho_tagger'['layer_utils'] at line 163:                                                                  conv2d_6[0][0]                   \n",
            "2020-07-24 12:26:00.245 INFO in 'deeppavlov.models.morpho_tagger.morpho_tagger'['layer_utils'] at line 232: __________________________________________________________________________________________________\n",
            "2020-07-24 12:26:00.246 INFO in 'deeppavlov.models.morpho_tagger.morpho_tagger'['layer_utils'] at line 163: lambda_1 (Lambda)               (None, None, 1100)   0           concatenate[0][0]                \n",
            "2020-07-24 12:26:00.247 INFO in 'deeppavlov.models.morpho_tagger.morpho_tagger'['layer_utils'] at line 232: __________________________________________________________________________________________________\n",
            "2020-07-24 12:26:00.248 INFO in 'deeppavlov.models.morpho_tagger.morpho_tagger'['layer_utils'] at line 163: input_2 (InputLayer)            [(None, None, 724)]  0                                            \n",
            "2020-07-24 12:26:00.249 INFO in 'deeppavlov.models.morpho_tagger.morpho_tagger'['layer_utils'] at line 232: __________________________________________________________________________________________________\n",
            "2020-07-24 12:26:00.250 INFO in 'deeppavlov.models.morpho_tagger.morpho_tagger'['layer_utils'] at line 163: highway (Highway)               (None, None, 1100)   2422200     lambda_1[0][0]                   \n",
            "2020-07-24 12:26:00.250 INFO in 'deeppavlov.models.morpho_tagger.morpho_tagger'['layer_utils'] at line 232: __________________________________________________________________________________________________\n",
            "2020-07-24 12:26:00.252 INFO in 'deeppavlov.models.morpho_tagger.morpho_tagger'['layer_utils'] at line 163: dense_1 (Dense)                 (None, None, 128)    92800       input_2[0][0]                    \n",
            "2020-07-24 12:26:00.252 INFO in 'deeppavlov.models.morpho_tagger.morpho_tagger'['layer_utils'] at line 232: __________________________________________________________________________________________________\n",
            "2020-07-24 12:26:00.253 INFO in 'deeppavlov.models.morpho_tagger.morpho_tagger'['layer_utils'] at line 163: concatenate_1 (Concatenate)     (None, None, 1228)   0           highway[0][0]                    \n",
            "2020-07-24 12:26:00.254 INFO in 'deeppavlov.models.morpho_tagger.morpho_tagger'['layer_utils'] at line 163:                                                                  dense_1[0][0]                    \n",
            "2020-07-24 12:26:00.254 INFO in 'deeppavlov.models.morpho_tagger.morpho_tagger'['layer_utils'] at line 232: __________________________________________________________________________________________________\n",
            "2020-07-24 12:26:00.255 INFO in 'deeppavlov.models.morpho_tagger.morpho_tagger'['layer_utils'] at line 163: dropout (Dropout)               (None, None, 1228)   0           concatenate_1[0][0]              \n",
            "2020-07-24 12:26:00.256 INFO in 'deeppavlov.models.morpho_tagger.morpho_tagger'['layer_utils'] at line 232: __________________________________________________________________________________________________\n",
            "2020-07-24 12:26:00.258 INFO in 'deeppavlov.models.morpho_tagger.morpho_tagger'['layer_utils'] at line 163: bidirectional (Bidirectional)   (None, None, 256)    1389568     dropout[0][0]                    \n",
            "2020-07-24 12:26:00.258 INFO in 'deeppavlov.models.morpho_tagger.morpho_tagger'['layer_utils'] at line 232: __________________________________________________________________________________________________\n",
            "2020-07-24 12:26:00.260 INFO in 'deeppavlov.models.morpho_tagger.morpho_tagger'['layer_utils'] at line 163: p (TimeDistributed)             (None, None, 711)    182727      bidirectional[0][0]              \n",
            "2020-07-24 12:26:00.260 INFO in 'deeppavlov.models.morpho_tagger.morpho_tagger'['layer_utils'] at line 230: ==================================================================================================\n",
            "2020-07-24 12:26:00.266 INFO in 'deeppavlov.models.morpho_tagger.morpho_tagger'['layer_utils'] at line 242: Total params: 4,254,763\n",
            "2020-07-24 12:26:00.268 INFO in 'deeppavlov.models.morpho_tagger.morpho_tagger'['layer_utils'] at line 243: Trainable params: 4,254,763\n",
            "2020-07-24 12:26:00.269 INFO in 'deeppavlov.models.morpho_tagger.morpho_tagger'['layer_utils'] at line 244: Non-trainable params: 0\n",
            "2020-07-24 12:26:00.270 INFO in 'deeppavlov.models.morpho_tagger.morpho_tagger'['layer_utils'] at line 245: __________________________________________________________________________________________________\n",
            "2020-07-24 12:26:00.271 INFO in 'deeppavlov.models.morpho_tagger.morpho_tagger'['morpho_tagger'] at line 139: [loading model from /root/.deeppavlov/models/morpho_tagger/UD2.0/ru_syntagrus/model_pymorphy.hdf5]\n"
          ],
          "name": "stderr"
        },
        {
          "output_type": "stream",
          "text": [
            "WARNING:tensorflow:From /usr/local/lib/python3.6/dist-packages/deeppavlov/models/embedders/elmo_embedder.py:186: The name tf.ConfigProto is deprecated. Please use tf.compat.v1.ConfigProto instead.\n",
            "\n"
          ],
          "name": "stdout"
        },
        {
          "output_type": "stream",
          "text": [
            "WARNING:tensorflow:From /usr/local/lib/python3.6/dist-packages/deeppavlov/models/embedders/elmo_embedder.py:186: The name tf.ConfigProto is deprecated. Please use tf.compat.v1.ConfigProto instead.\n",
            "\n"
          ],
          "name": "stderr"
        },
        {
          "output_type": "stream",
          "text": [
            "WARNING:tensorflow:From /usr/local/lib/python3.6/dist-packages/deeppavlov/models/embedders/elmo_embedder.py:188: The name tf.Session is deprecated. Please use tf.compat.v1.Session instead.\n",
            "\n"
          ],
          "name": "stdout"
        },
        {
          "output_type": "stream",
          "text": [
            "WARNING:tensorflow:From /usr/local/lib/python3.6/dist-packages/deeppavlov/models/embedders/elmo_embedder.py:188: The name tf.Session is deprecated. Please use tf.compat.v1.Session instead.\n",
            "\n"
          ],
          "name": "stderr"
        },
        {
          "output_type": "stream",
          "text": [
            "WARNING:tensorflow:From /usr/local/lib/python3.6/dist-packages/deeppavlov/models/embedders/elmo_embedder.py:190: The name tf.placeholder is deprecated. Please use tf.compat.v1.placeholder instead.\n",
            "\n"
          ],
          "name": "stdout"
        },
        {
          "output_type": "stream",
          "text": [
            "WARNING:tensorflow:From /usr/local/lib/python3.6/dist-packages/deeppavlov/models/embedders/elmo_embedder.py:190: The name tf.placeholder is deprecated. Please use tf.compat.v1.placeholder instead.\n",
            "\n"
          ],
          "name": "stderr"
        },
        {
          "output_type": "stream",
          "text": [
            "INFO:tensorflow:Saver not created because there are no variables in the graph to restore\n"
          ],
          "name": "stdout"
        },
        {
          "output_type": "stream",
          "text": [
            "INFO:tensorflow:Saver not created because there are no variables in the graph to restore\n"
          ],
          "name": "stderr"
        },
        {
          "output_type": "stream",
          "text": [
            "WARNING:tensorflow:From /usr/local/lib/python3.6/dist-packages/deeppavlov/models/embedders/elmo_embedder.py:198: The name tf.global_variables_initializer is deprecated. Please use tf.compat.v1.global_variables_initializer instead.\n",
            "\n"
          ],
          "name": "stdout"
        },
        {
          "output_type": "stream",
          "text": [
            "WARNING:tensorflow:From /usr/local/lib/python3.6/dist-packages/deeppavlov/models/embedders/elmo_embedder.py:198: The name tf.global_variables_initializer is deprecated. Please use tf.compat.v1.global_variables_initializer instead.\n",
            "\n"
          ],
          "name": "stderr"
        }
      ]
    },
    {
      "cell_type": "markdown",
      "metadata": {
        "id": "vzYgZSoAzRVu",
        "colab_type": "text"
      },
      "source": [
        "В качестве модели эмбедингов был взят предобученный ELMo, потому как он лучше всего подходят для задачи классификации, в условии ограниченных ресурсов. Так же ELMo можно дообучить на своих данных.\n",
        "В качестве альтернативы можно было взять предобученный fasttext, который хорошо подходит для русского языка. \n",
        "При бОльших вычислительных ресурсах, имеет смысл брать предобученный bert.\n",
        "Остальные эмбединги вроде tf-idf, word2vec и т.д. на мой взгляд обладают рядом минусов, особенно в условиях русского языка."
      ]
    },
    {
      "cell_type": "markdown",
      "metadata": {
        "id": "AEfSl-_0yF32",
        "colab_type": "text"
      },
      "source": [
        "# Обьявим функции для лемматизации, определения части речи, векторизации"
      ]
    },
    {
      "cell_type": "code",
      "metadata": {
        "id": "gNuQhu7yt8hZ",
        "colab_type": "code",
        "colab": {}
      },
      "source": [
        "def normalize(word):\n",
        "    return morph.parse(word)[0].normal_form"
      ],
      "execution_count": 8,
      "outputs": []
    },
    {
      "cell_type": "code",
      "metadata": {
        "id": "fDVnOpWIlSmr",
        "colab_type": "code",
        "colab": {}
      },
      "source": [
        "def info(text):\n",
        "    \"\"\"\n",
        "    Возвращает информацию о тексте: \n",
        "    return (слово, лемма, часть речи)\n",
        "    \"\"\"\n",
        "    parse = model([text])[0]\n",
        "    dp_pos_info = [raw.split('\\t') for raw in parse.split('\\n')[:-1]]\n",
        "    \n",
        "    info = [(el[1], normalize(el[1]), el[2]) for el in dp_pos_info]\n",
        "    return info"
      ],
      "execution_count": 9,
      "outputs": []
    },
    {
      "cell_type": "code",
      "metadata": {
        "id": "q9j9-irNuSdv",
        "colab_type": "code",
        "colab": {}
      },
      "source": [
        "def vectorize(text):\n",
        "    \"\"\"Возвращает numpy вектор эмбеддинга текста.\"\"\"\n",
        "    tokens = re.split('\\W+', text)\n",
        "    return elmo([tokens])"
      ],
      "execution_count": 10,
      "outputs": []
    },
    {
      "cell_type": "code",
      "metadata": {
        "id": "l9C1NYxHnIjb",
        "colab_type": "code",
        "colab": {
          "base_uri": "https://localhost:8080/",
          "height": 1000
        },
        "outputId": "242d043a-d4b6-4d32-abb0-48d6ea127b08"
      },
      "source": [
        "info(text)"
      ],
      "execution_count": 11,
      "outputs": [
        {
          "output_type": "execute_result",
          "data": {
            "text/plain": [
              "[('В', 'в', 'ADP'),\n",
              " ('начале', 'начало', 'NOUN'),\n",
              " ('июля', 'июль', 'NOUN'),\n",
              " (',', ',', 'PUNCT'),\n",
              " ('в', 'в', 'ADP'),\n",
              " ('чрезвычайно', 'чрезвычайно', 'ADV'),\n",
              " ('жаркое', 'жаркое', 'ADJ'),\n",
              " ('время', 'время', 'NOUN'),\n",
              " (',', ',', 'PUNCT'),\n",
              " ('под', 'под', 'ADP'),\n",
              " ('вечер', 'вечер', 'NOUN'),\n",
              " (',', ',', 'PUNCT'),\n",
              " ('один', 'один', 'NUM'),\n",
              " ('молодой', 'молодая', 'ADJ'),\n",
              " ('человек', 'человек', 'NOUN'),\n",
              " ('вышел', 'выйти', 'VERB'),\n",
              " ('из', 'из', 'ADP'),\n",
              " ('своей', 'свой', 'DET'),\n",
              " ('каморки', 'каморка', 'NOUN'),\n",
              " (',', ',', 'PUNCT'),\n",
              " ('которую', 'который', 'PRON'),\n",
              " ('нанимал', 'нанимать', 'VERB'),\n",
              " ('от', 'от', 'ADP'),\n",
              " ('жильцов', 'жильцов', 'NOUN'),\n",
              " ('в', 'в', 'ADP'),\n",
              " ('С', 'с', 'ADP'),\n",
              " ('—', '—', 'PUNCT'),\n",
              " ('м', 'метр', 'NOUN'),\n",
              " ('переулке', 'переулок', 'NOUN'),\n",
              " (',', ',', 'PUNCT'),\n",
              " ('на', 'на', 'ADP'),\n",
              " ('улицу', 'улица', 'NOUN'),\n",
              " ('и', 'и', 'CCONJ'),\n",
              " ('медленно', 'медленно', 'ADV'),\n",
              " (',', ',', 'PUNCT'),\n",
              " ('как', 'как', 'ADV'),\n",
              " ('бы', 'бы', 'PART'),\n",
              " ('в', 'в', 'ADP'),\n",
              " ('нерешимости', 'нерешимость', 'NOUN'),\n",
              " (',', ',', 'PUNCT'),\n",
              " ('отправился', 'отправиться', 'VERB'),\n",
              " ('к', 'к', 'ADP'),\n",
              " ('К', 'к', 'ADP'),\n",
              " ('—', '—', 'PUNCT'),\n",
              " ('ну', 'ну', 'PART'),\n",
              " ('мосту', 'мост', 'NOUN'),\n",
              " ('.', '.', 'PUNCT'),\n",
              " ('Он', 'он', 'PRON'),\n",
              " ('благополучно', 'благополучно', 'ADV'),\n",
              " ('избегнул', 'избегнуть', 'VERB'),\n",
              " ('встречи', 'встреча', 'NOUN'),\n",
              " ('с', 'с', 'ADP'),\n",
              " ('своею', 'свой', 'DET'),\n",
              " ('хозяйкой', 'хозяйка', 'NOUN'),\n",
              " ('на', 'на', 'ADP'),\n",
              " ('лестнице', 'лестница', 'NOUN'),\n",
              " ('.', '.', 'PUNCT'),\n",
              " ('Каморка', 'каморка', 'PROPN'),\n",
              " ('его', 'он', 'PRON'),\n",
              " ('приходилась', 'приходиться', 'VERB'),\n",
              " ('под', 'под', 'ADP'),\n",
              " ('самою', 'сама', 'NOUN'),\n",
              " ('кровлей', 'кровля', 'NOUN'),\n",
              " ('высокого', 'высокий', 'ADJ'),\n",
              " ('пятиэтажного', 'пятиэтажный', 'ADJ'),\n",
              " ('дома', 'дом', 'NOUN'),\n",
              " ('и', 'и', 'CCONJ'),\n",
              " ('походила', 'походить', 'VERB'),\n",
              " ('более', 'более', 'ADV'),\n",
              " ('на', 'на', 'ADP'),\n",
              " ('шкаф', 'шкаф', 'NOUN'),\n",
              " (',', ',', 'PUNCT'),\n",
              " ('чем', 'чем', 'SCONJ'),\n",
              " ('на', 'на', 'ADP'),\n",
              " ('квартиру', 'квартира', 'NOUN'),\n",
              " ('.', '.', 'PUNCT'),\n",
              " ('Квартирная', 'квартирный', 'ADJ'),\n",
              " ('же', 'же', 'PART'),\n",
              " ('хозяйка', 'хозяйка', 'NOUN'),\n",
              " ('его', 'он', 'PRON'),\n",
              " (',', ',', 'PUNCT'),\n",
              " ('у', 'у', 'ADP'),\n",
              " ('которой', 'который', 'PRON'),\n",
              " ('он', 'он', 'PRON'),\n",
              " ('нанимал', 'нанимать', 'VERB'),\n",
              " ('эту', 'этот', 'DET'),\n",
              " ('каморку', 'каморка', 'NOUN'),\n",
              " ('с', 'с', 'ADP'),\n",
              " ('обедом', 'обед', 'NOUN'),\n",
              " ('и', 'и', 'CCONJ'),\n",
              " ('прислугой', 'прислуга', 'NOUN'),\n",
              " (',', ',', 'PUNCT'),\n",
              " ('помещалась', 'помещаться', 'VERB'),\n",
              " ('одною', 'одной', 'NOUN'),\n",
              " ('лестницей', 'лестница', 'NOUN'),\n",
              " ('ниже', 'ниже', 'ADJ'),\n",
              " (',', ',', 'PUNCT'),\n",
              " ('в', 'в', 'ADP'),\n",
              " ('отдельной', 'отдельный', 'ADJ'),\n",
              " ('квартире', 'квартира', 'NOUN'),\n",
              " (',', ',', 'PUNCT'),\n",
              " ('и', 'и', 'CCONJ'),\n",
              " ('каждый', 'каждый', 'ADJ'),\n",
              " ('раз', 'раз', 'NOUN'),\n",
              " (',', ',', 'PUNCT'),\n",
              " ('при', 'при', 'ADP'),\n",
              " ('выходе', 'выход', 'NOUN'),\n",
              " ('на', 'на', 'ADP'),\n",
              " ('улицу', 'улица', 'NOUN'),\n",
              " (',', ',', 'PUNCT'),\n",
              " ('ему', 'он', 'PRON'),\n",
              " ('непременно', 'непременно', 'ADV'),\n",
              " ('надо', 'надо', 'ADV'),\n",
              " ('было', 'быть', 'AUX'),\n",
              " ('проходить', 'проходить', 'VERB'),\n",
              " ('мимо', 'мимо', 'ADP'),\n",
              " ('хозяйкиной', 'хозяйкин', 'ADJ'),\n",
              " ('кухни', 'кухня', 'NOUN'),\n",
              " (',', ',', 'PUNCT'),\n",
              " ('почти', 'почти', 'ADV'),\n",
              " ('всегда', 'всегда', 'ADV'),\n",
              " ('настежь', 'настежь', 'ADV'),\n",
              " ('отворенной', 'отворить', 'VERB'),\n",
              " ('на', 'на', 'ADP'),\n",
              " ('лестницу', 'лестница', 'NOUN'),\n",
              " ('.', '.', 'PUNCT'),\n",
              " ('И', 'и', 'CCONJ'),\n",
              " ('каждый', 'каждый', 'ADJ'),\n",
              " ('раз', 'раз', 'NOUN'),\n",
              " ('молодой', 'молодая', 'ADJ'),\n",
              " ('человек', 'человек', 'NOUN'),\n",
              " (',', ',', 'PUNCT'),\n",
              " ('проходя', 'проходить', 'VERB'),\n",
              " ('мимо', 'мимо', 'ADV'),\n",
              " (',', ',', 'PUNCT'),\n",
              " ('чувствовал', 'чувствовать', 'VERB'),\n",
              " ('какое-то', 'какой-то', 'ADJ'),\n",
              " ('болезненное', 'болезненный', 'ADJ'),\n",
              " ('и', 'и', 'CCONJ'),\n",
              " ('трусливое', 'трусливый', 'ADJ'),\n",
              " ('ощущение', 'ощущение', 'NOUN'),\n",
              " (',', ',', 'PUNCT'),\n",
              " ('которого', 'который', 'PRON'),\n",
              " ('стыдился', 'стыдиться', 'VERB'),\n",
              " ('и', 'и', 'CCONJ'),\n",
              " ('от', 'от', 'ADP'),\n",
              " ('которого', 'который', 'PRON'),\n",
              " ('морщился', 'морщиться', 'VERB'),\n",
              " ('.', '.', 'PUNCT'),\n",
              " ('Он', 'он', 'PRON'),\n",
              " ('был', 'быть', 'AUX'),\n",
              " ('должен', 'должный', 'ADJ'),\n",
              " ('кругом', 'кругом', 'ADV'),\n",
              " ('хозяйке', 'хозяйка', 'NOUN'),\n",
              " ('и', 'и', 'CCONJ'),\n",
              " ('боялся', 'бояться', 'VERB'),\n",
              " ('с', 'с', 'ADP'),\n",
              " ('нею', 'нея', 'PRON'),\n",
              " ('встретиться', 'встретиться', 'VERB'),\n",
              " ('.', '.', 'PUNCT'),\n",
              " ('Не', 'не', 'PART'),\n",
              " ('то', 'то', 'PRON'),\n",
              " ('чтоб', 'чтоб', 'SCONJ'),\n",
              " ('он', 'он', 'PRON'),\n",
              " ('был', 'быть', 'AUX'),\n",
              " ('так', 'так', 'ADV'),\n",
              " ('труслив', 'трусливый', 'ADJ'),\n",
              " ('и', 'и', 'CCONJ'),\n",
              " ('забит', 'забитый', 'VERB'),\n",
              " (',', ',', 'PUNCT'),\n",
              " ('совсем', 'совсем', 'ADV'),\n",
              " ('даже', 'даже', 'PART'),\n",
              " ('напротив', 'напротив', 'ADV'),\n",
              " (';', ';', 'PUNCT'),\n",
              " ('но', 'но', 'CCONJ'),\n",
              " ('с', 'с', 'ADP'),\n",
              " ('некоторого', 'некоторый', 'DET'),\n",
              " ('времени', 'время', 'NOUN'),\n",
              " ('он', 'он', 'PRON'),\n",
              " ('был', 'быть', 'AUX'),\n",
              " ('в', 'в', 'ADP'),\n",
              " ('раздражительном', 'раздражительный', 'ADJ'),\n",
              " ('и', 'и', 'CCONJ'),\n",
              " ('напряженном', 'напрячь', 'ADJ'),\n",
              " ('состоянии', 'состояние', 'NOUN'),\n",
              " (',', ',', 'PUNCT'),\n",
              " ('похожем', 'похожий', 'ADJ'),\n",
              " ('на', 'на', 'ADP'),\n",
              " ('ипохондрию', 'ипохондрия', 'NOUN'),\n",
              " ('.', '.', 'PUNCT'),\n",
              " ('Он', 'он', 'PRON'),\n",
              " ('до', 'до', 'ADP'),\n",
              " ('того', 'тот', 'PRON'),\n",
              " ('углубился', 'углубиться', 'VERB'),\n",
              " ('в', 'в', 'ADP'),\n",
              " ('себя', 'себя', 'PRON'),\n",
              " ('и', 'и', 'CCONJ'),\n",
              " ('уединился', 'уединиться', 'VERB'),\n",
              " ('от', 'от', 'ADP'),\n",
              " ('всех', 'весь', 'PRON'),\n",
              " (',', ',', 'PUNCT'),\n",
              " ('что', 'что', 'PRON'),\n",
              " ('боялся', 'бояться', 'VERB'),\n",
              " ('даже', 'даже', 'PART'),\n",
              " ('всякой', 'всякая', 'DET'),\n",
              " ('встречи', 'встреча', 'NOUN'),\n",
              " (',', ',', 'PUNCT'),\n",
              " ('не', 'не', 'PART'),\n",
              " ('только', 'только', 'PART'),\n",
              " ('встречи', 'встреча', 'NOUN'),\n",
              " ('с', 'с', 'ADP'),\n",
              " ('хозяйкой', 'хозяйка', 'NOUN'),\n",
              " ('.', '.', 'PUNCT'),\n",
              " ('Он', 'он', 'PRON'),\n",
              " ('был', 'быть', 'AUX'),\n",
              " ('задавлен', 'задавить', 'VERB'),\n",
              " ('бедностью', 'бедность', 'NOUN'),\n",
              " (';', ';', 'PUNCT'),\n",
              " ('но', 'но', 'CCONJ'),\n",
              " ('даже', 'даже', 'PART'),\n",
              " ('стесненное', 'стеснённый', 'ADJ'),\n",
              " ('положение', 'положение', 'NOUN'),\n",
              " ('перестало', 'перестать', 'VERB'),\n",
              " ('в', 'в', 'ADP'),\n",
              " ('последнее', 'последний', 'ADJ'),\n",
              " ('время', 'время', 'NOUN'),\n",
              " ('тяготить', 'тяготить', 'VERB'),\n",
              " ('его', 'он', 'PRON'),\n",
              " ('.', '.', 'PUNCT'),\n",
              " ('Насущными', 'насущный', 'ADJ'),\n",
              " ('делами', 'дело', 'NOUN'),\n",
              " ('своими', 'свой', 'DET'),\n",
              " ('он', 'он', 'PRON'),\n",
              " ('совсем', 'совсем', 'ADV'),\n",
              " ('перестал', 'перестать', 'VERB'),\n",
              " ('и', 'и', 'CCONJ'),\n",
              " ('не', 'не', 'PART'),\n",
              " ('хотел', 'хотеть', 'VERB'),\n",
              " ('заниматься', 'заниматься', 'VERB'),\n",
              " ('.', '.', 'PUNCT'),\n",
              " ('Никакой', 'никакой', 'DET'),\n",
              " ('хозяйки', 'хозяйка', 'NOUN'),\n",
              " (',', ',', 'PUNCT'),\n",
              " ('в', 'в', 'ADP'),\n",
              " ('сущности', 'сущность', 'NOUN'),\n",
              " (',', ',', 'PUNCT'),\n",
              " ('он', 'он', 'PRON'),\n",
              " ('не', 'не', 'PART'),\n",
              " ('боялся', 'бояться', 'VERB'),\n",
              " (',', ',', 'PUNCT'),\n",
              " ('что', 'что', 'SCONJ'),\n",
              " ('бы', 'бы', 'PART'),\n",
              " ('та', 'тот', 'DET'),\n",
              " ('ни', 'ни', 'PART'),\n",
              " ('замышляла', 'замышлять', 'VERB'),\n",
              " ('против', 'против', 'ADP'),\n",
              " ('него', 'он', 'PRON'),\n",
              " ('.', '.', 'PUNCT'),\n",
              " ('Но', 'но', 'CCONJ'),\n",
              " ('останавливаться', 'останавливаться', 'VERB'),\n",
              " ('на', 'на', 'ADP'),\n",
              " ('лестнице', 'лестница', 'NOUN'),\n",
              " (',', ',', 'PUNCT'),\n",
              " ('слушать', 'слушать', 'VERB'),\n",
              " ('всякий', 'всякий', 'DET'),\n",
              " ('вздор', 'вздор', 'NOUN'),\n",
              " ('про', 'про', 'ADP'),\n",
              " ('всю', 'весь', 'DET'),\n",
              " ('эту', 'этот', 'DET'),\n",
              " ('обыденную', 'обыденный', 'ADJ'),\n",
              " ('дребедень', 'дребедень', 'NOUN'),\n",
              " (',', ',', 'PUNCT'),\n",
              " ('до', 'до', 'ADP'),\n",
              " ('которой', 'который', 'PRON'),\n",
              " ('ему', 'он', 'PRON'),\n",
              " ('нет', 'нет', 'VERB'),\n",
              " ('никакого', 'никакой', 'DET'),\n",
              " ('дела', 'дело', 'NOUN'),\n",
              " (',', ',', 'PUNCT'),\n",
              " ('все', 'весь', 'DET'),\n",
              " ('эти', 'этот', 'DET'),\n",
              " ('приставания', 'приставание', 'NOUN'),\n",
              " ('о', 'о', 'ADP'),\n",
              " ('платеже', 'платёж', 'NOUN'),\n",
              " (',', ',', 'PUNCT'),\n",
              " ('угрозы', 'угроза', 'NOUN'),\n",
              " (',', ',', 'PUNCT'),\n",
              " ('жалобы', 'жалоба', 'NOUN'),\n",
              " (',', ',', 'PUNCT'),\n",
              " ('и', 'и', 'CCONJ'),\n",
              " ('при', 'при', 'ADP'),\n",
              " ('этом', 'это', 'PRON'),\n",
              " ('самому', 'самый', 'ADJ'),\n",
              " ('изворачиваться', 'изворачиваться', 'VERB'),\n",
              " (',', ',', 'PUNCT'),\n",
              " ('извиняться', 'извиняться', 'VERB'),\n",
              " (',', ',', 'PUNCT'),\n",
              " ('лгать', 'лгать', 'VERB'),\n",
              " (',', ',', 'PUNCT'),\n",
              " ('—', '—', 'PUNCT'),\n",
              " ('нет', 'нет', 'VERB'),\n",
              " ('уж', 'уж', 'PART'),\n",
              " (',', ',', 'PUNCT'),\n",
              " ('лучше', 'хороший', 'ADJ'),\n",
              " ('проскользнуть', 'проскользнуть', 'VERB'),\n",
              " ('как-нибудь', 'как-нибудь', 'ADV'),\n",
              " ('кошкой', 'кошка', 'NOUN'),\n",
              " ('по', 'по', 'ADP'),\n",
              " ('лестнице', 'лестница', 'NOUN'),\n",
              " ('и', 'и', 'CCONJ'),\n",
              " ('улизнуть', 'улизнуть', 'VERB'),\n",
              " (',', ',', 'PUNCT'),\n",
              " ('чтобы', 'чтобы', 'SCONJ'),\n",
              " ('никто', 'никто', 'PRON'),\n",
              " ('не', 'не', 'PART'),\n",
              " ('видал', 'видать', 'VERB'),\n",
              " ('.', '.', 'PUNCT'),\n",
              " ('Впрочем', 'впрочем', 'ADV'),\n",
              " (',', ',', 'PUNCT'),\n",
              " ('на', 'на', 'ADP'),\n",
              " ('этот', 'этот', 'DET'),\n",
              " ('раз', 'раз', 'NOUN'),\n",
              " ('страх', 'страх', 'NOUN'),\n",
              " ('встречи', 'встреча', 'NOUN'),\n",
              " ('с', 'с', 'ADP'),\n",
              " ('своею', 'свой', 'DET'),\n",
              " ('кредиторшей', 'кредиторша', 'NOUN'),\n",
              " ('даже', 'даже', 'PART'),\n",
              " ('его', 'он', 'PRON'),\n",
              " ('самого', 'самый', 'ADJ'),\n",
              " ('поразил', 'поразить', 'VERB'),\n",
              " ('по', 'по', 'ADP'),\n",
              " ('выходе', 'выход', 'NOUN'),\n",
              " ('на', 'на', 'ADP'),\n",
              " ('улицу', 'улица', 'NOUN'),\n",
              " ('.', '.', 'PUNCT'),\n",
              " ('«', '«', 'PUNCT'),\n",
              " ('На', 'на', 'ADP'),\n",
              " ('какое', 'какой', 'DET'),\n",
              " ('дело', 'дело', 'NOUN'),\n",
              " ('хочу', 'хотеть', 'VERB'),\n",
              " ('покуситься', 'покуситься', 'VERB'),\n",
              " ('и', 'и', 'PART'),\n",
              " ('в', 'в', 'ADP'),\n",
              " ('то', 'то', 'DET'),\n",
              " ('же', 'же', 'PART'),\n",
              " ('время', 'время', 'NOUN'),\n",
              " ('каких', 'какой', 'DET'),\n",
              " ('пустяков', 'пустяк', 'NOUN'),\n",
              " ('боюсь', 'бояться', 'VERB'),\n",
              " ('!', '!', 'PUNCT'),\n",
              " ('—', '—', 'PUNCT'),\n",
              " ('подумал', 'подумать', 'VERB'),\n",
              " ('он', 'он', 'PRON'),\n",
              " ('с', 'с', 'ADP'),\n",
              " ('странною', 'странный', 'ADJ'),\n",
              " ('улыбкой', 'улыбка', 'NOUN'),\n",
              " ('.', '.', 'PUNCT')]"
            ]
          },
          "metadata": {
            "tags": []
          },
          "execution_count": 11
        }
      ]
    },
    {
      "cell_type": "code",
      "metadata": {
        "id": "tYkIT6GauYjl",
        "colab_type": "code",
        "colab": {
          "base_uri": "https://localhost:8080/",
          "height": 52
        },
        "outputId": "d3cc4dbe-250b-4efd-faa2-00f1b2bf5384"
      },
      "source": [
        "vectorize(text)"
      ],
      "execution_count": 12,
      "outputs": [
        {
          "output_type": "execute_result",
          "data": {
            "text/plain": [
              "array([[-0.07166423,  0.16918154, -0.08359444, ..., -0.03321989,\n",
              "         0.03883274,  0.1067197 ]], dtype=float32)"
            ]
          },
          "metadata": {
            "tags": []
          },
          "execution_count": 12
        }
      ]
    },
    {
      "cell_type": "code",
      "metadata": {
        "id": "fGBNOAXf05pK",
        "colab_type": "code",
        "colab": {}
      },
      "source": [
        ""
      ],
      "execution_count": null,
      "outputs": []
    }
  ]
}